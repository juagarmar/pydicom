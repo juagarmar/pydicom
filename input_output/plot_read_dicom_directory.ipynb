{
  "cells": [
    {
      "cell_type": "code",
      "execution_count": null,
      "metadata": {
        "collapsed": false
      },
      "outputs": [],
      "source": [
        "%matplotlib inline"
      ]
    },
    {
      "cell_type": "markdown",
      "metadata": {},
      "source": [
        "\n# Read a DICOMDIR dataset\n\nThis example shows how to read a DICOM :File-set's DICOMDIR dataset.\n\n<div class=\"alert alert-info\"><h4>Note</h4><p>The :class:`~pydicom.fileset.FileSet` class is a much better way of working\n    with DICOM File-sets and allows creation and modification of DICOMDIR\n    files. See the :doc:`DICOM File-set example<plot_read_fileset>` or the\n    `File-set tutorial <../../tutorials/filesets.html>`_.</p></div>\n"
      ]
    },
    {
      "cell_type": "code",
      "execution_count": null,
      "metadata": {
        "collapsed": false
      },
      "outputs": [],
      "source": [
        "import os\nfrom pathlib import Path\n\nfrom pydicom import dcmread\nfrom pydicom.data import get_testdata_file\n\n# fetch the path to the test data\npath = get_testdata_file('DICOMDIR')\nds = dcmread(path)\nroot_dir = Path(ds.filename).resolve().parent\nprint(f'Root directory: {root_dir}\\n')\n\n# Iterate through the PATIENT records\nfor patient in ds.patient_records:\n    print(\n        f\"PATIENT: PatientID={patient.PatientID}, \"\n        f\"PatientName={patient.PatientName}\"\n    )\n\n    # Find all the STUDY records for the patient\n    studies = [\n        ii for ii in patient.children if ii.DirectoryRecordType == \"STUDY\"\n    ]\n    for study in studies:\n        descr = study.StudyDescription or \"(no value available)\"\n        print(\n            f\"{'  ' * 1}STUDY: StudyID={study.StudyID}, \"\n            f\"StudyDate={study.StudyDate}, StudyDescription={descr}\"\n        )\n\n        # Find all the SERIES records in the study\n        all_series = [\n            ii for ii in study.children if ii.DirectoryRecordType == \"SERIES\"\n        ]\n        for series in all_series:\n            # Find all the IMAGE records in the series\n            images = [\n                ii for ii in series.children\n                if ii.DirectoryRecordType == \"IMAGE\"\n            ]\n            plural = ('', 's')[len(images) > 1]\n\n            descr = getattr(\n                series, \"SeriesDescription\", \"(no value available)\"\n            )\n            print(\n                f\"{'  ' * 2}SERIES: SeriesNumber={series.SeriesNumber}, \"\n                f\"Modality={series.Modality}, SeriesDescription={descr} - \"\n                f\"{len(images)} SOP Instance{plural}\"\n            )\n\n            # Get the absolute file path to each instance\n            #   Each IMAGE contains a relative file path to the root directory\n            elems = [ii[\"ReferencedFileID\"] for ii in images]\n            # Make sure the relative file path is always a list of str\n            paths = [[ee.value] if ee.VM == 1 else ee.value for ee in elems]\n            paths = [Path(*p) for p in paths]\n\n            # List the instance file paths\n            for p in paths:\n                print(f\"{'  ' * 3}IMAGE: Path={os.fspath(p)}\")\n\n                # Optionally read the corresponding SOP Instance\n                # instance = dcmread(Path(root_dir) / p)\n                # print(instance.PatientName)"
      ]
    }
  ],
  "metadata": {
    "kernelspec": {
      "display_name": "Python 3",
      "language": "python",
      "name": "python3"
    },
    "language_info": {
      "codemirror_mode": {
        "name": "ipython",
        "version": 3
      },
      "file_extension": ".py",
      "mimetype": "text/x-python",
      "name": "python",
      "nbconvert_exporter": "python",
      "pygments_lexer": "ipython3",
      "version": "3.8.6"
    }
  },
  "nbformat": 4,
  "nbformat_minor": 0
}